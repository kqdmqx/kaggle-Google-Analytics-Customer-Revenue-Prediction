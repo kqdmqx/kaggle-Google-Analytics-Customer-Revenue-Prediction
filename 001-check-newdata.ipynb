{
 "cells": [
  {
   "cell_type": "code",
   "execution_count": 2,
   "metadata": {
    "collapsed": true
   },
   "outputs": [],
   "source": [
    "import numpy as np\n",
    "import pandas as pd"
   ]
  },
  {
   "cell_type": "code",
   "execution_count": 3,
   "metadata": {},
   "outputs": [
    {
     "name": "stdout",
     "output_type": "stream",
     "text": [
      "(401589, 13)\n"
     ]
    },
    {
     "name": "stderr",
     "output_type": "stream",
     "text": [
      "D:\\Anaconda2\\envs\\py3\\lib\\site-packages\\IPython\\core\\interactiveshell.py:2785: DtypeWarning: Columns (4) have mixed types. Specify dtype option on import or set low_memory=False.\n",
      "  interactivity=interactivity, compiler=compiler, result=result)\n"
     ]
    }
   ],
   "source": [
    "test = pd.read_csv(\"./data/test_v2.csv.zip\", compression=\"zip\")\n",
    "print(test.shape)"
   ]
  },
  {
   "cell_type": "code",
   "execution_count": 5,
   "metadata": {},
   "outputs": [
    {
     "data": {
      "text/html": [
       "<div>\n",
       "<style scoped>\n",
       "    .dataframe tbody tr th:only-of-type {\n",
       "        vertical-align: middle;\n",
       "    }\n",
       "\n",
       "    .dataframe tbody tr th {\n",
       "        vertical-align: top;\n",
       "    }\n",
       "\n",
       "    .dataframe thead th {\n",
       "        text-align: right;\n",
       "    }\n",
       "</style>\n",
       "<table border=\"1\" class=\"dataframe\">\n",
       "  <thead>\n",
       "    <tr style=\"text-align: right;\">\n",
       "      <th></th>\n",
       "      <th>0</th>\n",
       "      <th>1</th>\n",
       "      <th>2</th>\n",
       "      <th>3</th>\n",
       "      <th>4</th>\n",
       "    </tr>\n",
       "  </thead>\n",
       "  <tbody>\n",
       "    <tr>\n",
       "      <th>channelGrouping</th>\n",
       "      <td>Organic Search</td>\n",
       "      <td>Direct</td>\n",
       "      <td>Organic Search</td>\n",
       "      <td>Direct</td>\n",
       "      <td>Organic Search</td>\n",
       "    </tr>\n",
       "    <tr>\n",
       "      <th>customDimensions</th>\n",
       "      <td>[{'index': '4', 'value': 'APAC'}]</td>\n",
       "      <td>[{'index': '4', 'value': 'North America'}]</td>\n",
       "      <td>[{'index': '4', 'value': 'North America'}]</td>\n",
       "      <td>[{'index': '4', 'value': 'North America'}]</td>\n",
       "      <td>[{'index': '4', 'value': 'North America'}]</td>\n",
       "    </tr>\n",
       "    <tr>\n",
       "      <th>date</th>\n",
       "      <td>20180511</td>\n",
       "      <td>20180511</td>\n",
       "      <td>20180511</td>\n",
       "      <td>20180511</td>\n",
       "      <td>20180511</td>\n",
       "    </tr>\n",
       "    <tr>\n",
       "      <th>device</th>\n",
       "      <td>{\"browser\": \"Chrome\", \"browserVersion\": \"not a...</td>\n",
       "      <td>{\"browser\": \"Chrome\", \"browserVersion\": \"not a...</td>\n",
       "      <td>{\"browser\": \"Chrome\", \"browserVersion\": \"not a...</td>\n",
       "      <td>{\"browser\": \"Chrome\", \"browserVersion\": \"not a...</td>\n",
       "      <td>{\"browser\": \"Internet Explorer\", \"browserVersi...</td>\n",
       "    </tr>\n",
       "    <tr>\n",
       "      <th>fullVisitorId</th>\n",
       "      <td>7460955084541987166</td>\n",
       "      <td>460252456180441002</td>\n",
       "      <td>3461808543879602873</td>\n",
       "      <td>975129477712150630</td>\n",
       "      <td>8381672768065729990</td>\n",
       "    </tr>\n",
       "    <tr>\n",
       "      <th>geoNetwork</th>\n",
       "      <td>{\"continent\": \"Asia\", \"subContinent\": \"Souther...</td>\n",
       "      <td>{\"continent\": \"Americas\", \"subContinent\": \"Nor...</td>\n",
       "      <td>{\"continent\": \"Americas\", \"subContinent\": \"Nor...</td>\n",
       "      <td>{\"continent\": \"Americas\", \"subContinent\": \"Nor...</td>\n",
       "      <td>{\"continent\": \"Americas\", \"subContinent\": \"Nor...</td>\n",
       "    </tr>\n",
       "    <tr>\n",
       "      <th>hits</th>\n",
       "      <td>[{'hitNumber': '1', 'time': '0', 'hour': '21',...</td>\n",
       "      <td>[{'hitNumber': '1', 'time': '0', 'hour': '11',...</td>\n",
       "      <td>[{'hitNumber': '1', 'time': '0', 'hour': '12',...</td>\n",
       "      <td>[{'hitNumber': '1', 'time': '0', 'hour': '23',...</td>\n",
       "      <td>[{'hitNumber': '1', 'time': '0', 'hour': '10',...</td>\n",
       "    </tr>\n",
       "    <tr>\n",
       "      <th>socialEngagementType</th>\n",
       "      <td>Not Socially Engaged</td>\n",
       "      <td>Not Socially Engaged</td>\n",
       "      <td>Not Socially Engaged</td>\n",
       "      <td>Not Socially Engaged</td>\n",
       "      <td>Not Socially Engaged</td>\n",
       "    </tr>\n",
       "    <tr>\n",
       "      <th>totals</th>\n",
       "      <td>{\"visits\": \"1\", \"hits\": \"4\", \"pageviews\": \"3\",...</td>\n",
       "      <td>{\"visits\": \"1\", \"hits\": \"4\", \"pageviews\": \"3\",...</td>\n",
       "      <td>{\"visits\": \"1\", \"hits\": \"4\", \"pageviews\": \"3\",...</td>\n",
       "      <td>{\"visits\": \"1\", \"hits\": \"5\", \"pageviews\": \"4\",...</td>\n",
       "      <td>{\"visits\": \"1\", \"hits\": \"5\", \"pageviews\": \"4\",...</td>\n",
       "    </tr>\n",
       "    <tr>\n",
       "      <th>trafficSource</th>\n",
       "      <td>{\"referralPath\": \"(not set)\", \"campaign\": \"(no...</td>\n",
       "      <td>{\"referralPath\": \"(not set)\", \"campaign\": \"(no...</td>\n",
       "      <td>{\"referralPath\": \"(not set)\", \"campaign\": \"(no...</td>\n",
       "      <td>{\"referralPath\": \"(not set)\", \"campaign\": \"(no...</td>\n",
       "      <td>{\"referralPath\": \"(not set)\", \"campaign\": \"(no...</td>\n",
       "    </tr>\n",
       "    <tr>\n",
       "      <th>visitId</th>\n",
       "      <td>1526099341</td>\n",
       "      <td>1526064483</td>\n",
       "      <td>1526067157</td>\n",
       "      <td>1526107551</td>\n",
       "      <td>1526060254</td>\n",
       "    </tr>\n",
       "    <tr>\n",
       "      <th>visitNumber</th>\n",
       "      <td>2</td>\n",
       "      <td>166</td>\n",
       "      <td>2</td>\n",
       "      <td>4</td>\n",
       "      <td>1</td>\n",
       "    </tr>\n",
       "    <tr>\n",
       "      <th>visitStartTime</th>\n",
       "      <td>1526099341</td>\n",
       "      <td>1526064483</td>\n",
       "      <td>1526067157</td>\n",
       "      <td>1526107551</td>\n",
       "      <td>1526060254</td>\n",
       "    </tr>\n",
       "  </tbody>\n",
       "</table>\n",
       "</div>"
      ],
      "text/plain": [
       "                                                                      0  \\\n",
       "channelGrouping                                          Organic Search   \n",
       "customDimensions                      [{'index': '4', 'value': 'APAC'}]   \n",
       "date                                                           20180511   \n",
       "device                {\"browser\": \"Chrome\", \"browserVersion\": \"not a...   \n",
       "fullVisitorId                                       7460955084541987166   \n",
       "geoNetwork            {\"continent\": \"Asia\", \"subContinent\": \"Souther...   \n",
       "hits                  [{'hitNumber': '1', 'time': '0', 'hour': '21',...   \n",
       "socialEngagementType                               Not Socially Engaged   \n",
       "totals                {\"visits\": \"1\", \"hits\": \"4\", \"pageviews\": \"3\",...   \n",
       "trafficSource         {\"referralPath\": \"(not set)\", \"campaign\": \"(no...   \n",
       "visitId                                                      1526099341   \n",
       "visitNumber                                                           2   \n",
       "visitStartTime                                               1526099341   \n",
       "\n",
       "                                                                      1  \\\n",
       "channelGrouping                                                  Direct   \n",
       "customDimensions             [{'index': '4', 'value': 'North America'}]   \n",
       "date                                                           20180511   \n",
       "device                {\"browser\": \"Chrome\", \"browserVersion\": \"not a...   \n",
       "fullVisitorId                                        460252456180441002   \n",
       "geoNetwork            {\"continent\": \"Americas\", \"subContinent\": \"Nor...   \n",
       "hits                  [{'hitNumber': '1', 'time': '0', 'hour': '11',...   \n",
       "socialEngagementType                               Not Socially Engaged   \n",
       "totals                {\"visits\": \"1\", \"hits\": \"4\", \"pageviews\": \"3\",...   \n",
       "trafficSource         {\"referralPath\": \"(not set)\", \"campaign\": \"(no...   \n",
       "visitId                                                      1526064483   \n",
       "visitNumber                                                         166   \n",
       "visitStartTime                                               1526064483   \n",
       "\n",
       "                                                                      2  \\\n",
       "channelGrouping                                          Organic Search   \n",
       "customDimensions             [{'index': '4', 'value': 'North America'}]   \n",
       "date                                                           20180511   \n",
       "device                {\"browser\": \"Chrome\", \"browserVersion\": \"not a...   \n",
       "fullVisitorId                                       3461808543879602873   \n",
       "geoNetwork            {\"continent\": \"Americas\", \"subContinent\": \"Nor...   \n",
       "hits                  [{'hitNumber': '1', 'time': '0', 'hour': '12',...   \n",
       "socialEngagementType                               Not Socially Engaged   \n",
       "totals                {\"visits\": \"1\", \"hits\": \"4\", \"pageviews\": \"3\",...   \n",
       "trafficSource         {\"referralPath\": \"(not set)\", \"campaign\": \"(no...   \n",
       "visitId                                                      1526067157   \n",
       "visitNumber                                                           2   \n",
       "visitStartTime                                               1526067157   \n",
       "\n",
       "                                                                      3  \\\n",
       "channelGrouping                                                  Direct   \n",
       "customDimensions             [{'index': '4', 'value': 'North America'}]   \n",
       "date                                                           20180511   \n",
       "device                {\"browser\": \"Chrome\", \"browserVersion\": \"not a...   \n",
       "fullVisitorId                                        975129477712150630   \n",
       "geoNetwork            {\"continent\": \"Americas\", \"subContinent\": \"Nor...   \n",
       "hits                  [{'hitNumber': '1', 'time': '0', 'hour': '23',...   \n",
       "socialEngagementType                               Not Socially Engaged   \n",
       "totals                {\"visits\": \"1\", \"hits\": \"5\", \"pageviews\": \"4\",...   \n",
       "trafficSource         {\"referralPath\": \"(not set)\", \"campaign\": \"(no...   \n",
       "visitId                                                      1526107551   \n",
       "visitNumber                                                           4   \n",
       "visitStartTime                                               1526107551   \n",
       "\n",
       "                                                                      4  \n",
       "channelGrouping                                          Organic Search  \n",
       "customDimensions             [{'index': '4', 'value': 'North America'}]  \n",
       "date                                                           20180511  \n",
       "device                {\"browser\": \"Internet Explorer\", \"browserVersi...  \n",
       "fullVisitorId                                       8381672768065729990  \n",
       "geoNetwork            {\"continent\": \"Americas\", \"subContinent\": \"Nor...  \n",
       "hits                  [{'hitNumber': '1', 'time': '0', 'hour': '10',...  \n",
       "socialEngagementType                               Not Socially Engaged  \n",
       "totals                {\"visits\": \"1\", \"hits\": \"5\", \"pageviews\": \"4\",...  \n",
       "trafficSource         {\"referralPath\": \"(not set)\", \"campaign\": \"(no...  \n",
       "visitId                                                      1526060254  \n",
       "visitNumber                                                           1  \n",
       "visitStartTime                                               1526060254  "
      ]
     },
     "execution_count": 5,
     "metadata": {},
     "output_type": "execute_result"
    }
   ],
   "source": [
    "test.head().T"
   ]
  },
  {
   "cell_type": "code",
   "execution_count": 10,
   "metadata": {},
   "outputs": [
    {
     "data": {
      "text/plain": [
       "'{\"referralPath\": \"(not set)\", \"campaign\": \"(not set)\", \"source\": \"google\", \"medium\": \"organic\", \"keyword\": \"(not provided)\", \"adContent\": \"(not set)\", \"adwordsClickInfo\": {\"criteriaParameters\": \"not available in demo dataset\"}, \"isTrueDirect\": true}'"
      ]
     },
     "execution_count": 10,
     "metadata": {},
     "output_type": "execute_result"
    }
   ],
   "source": [
    "test.iloc[0].trafficSource"
   ]
  },
  {
   "cell_type": "code",
   "execution_count": 9,
   "metadata": {},
   "outputs": [
    {
     "data": {
      "text/plain": [
       "\"[{'hitNumber': '1', 'time': '0', 'hour': '21', 'minute': '29', 'isInteraction': True, 'page': {'pagePath': '/home', 'hostname': 'shop.googlemerchandisestore.com', 'pageTitle': 'Home', 'pagePathLevel1': '/home', 'pagePathLevel2': '', 'pagePathLevel3': '', 'pagePathLevel4': ''}, 'appInfo': {'screenName': 'shop.googlemerchandisestore.com/home', 'landingScreenName': 'shop.googlemerchandisestore.com/home', 'exitScreenName': 'shop.googlemerchandisestore.com/home', 'screenDepth': '0'}, 'exceptionInfo': {'isFatal': True}, 'eventInfo': {'eventCategory': 'Enhanced Ecommerce', 'eventAction': 'Promotion Click'}, 'product': [], 'promotion': [{'promoId': 'Category Row 2', 'promoName': 'Accessories', 'promoCreative': 'toy.png', 'promoPosition': 'Category Row 2'}], 'promotionActionInfo': {'promoIsClick': True}, 'eCommerceAction': {'action_type': '0', 'step': '1'}, 'experiment': [], 'customVariables': [], 'customDimensions': [], 'customMetrics': [], 'type': 'EVENT', 'social': {'socialNetwork': '(not set)', 'hasSocialSourceReferral': 'No', 'socialInteractionNetworkAction': ' : '}, 'contentGroup': {'contentGroup1': '(not set)', 'contentGroup2': '(not set)', 'contentGroup3': '(not set)', 'contentGroup4': '(not set)', 'contentGroup5': '(not set)', 'previousContentGroup1': '(entrance)', 'previousContentGroup2': '(entrance)', 'previousContentGroup3': '(entrance)', 'previousContentGroup4': '(entrance)', 'previousContentGroup5': '(entrance)'}, 'dataSource': 'web', 'publisher_infos': []}, {'hitNumber': '2', 'time': '3352', 'hour': '21', 'minute': '29', 'isInteraction': True, 'isEntrance': True, 'page': {'pagePath': '/google+redesign/accessories', 'hostname': 'shop.googlemerchandisestore.com', 'pageTitle': 'Accessories | Google Merchandise Store', 'pagePathLevel1': '/google+redesign/', 'pagePathLevel2': '/accessories', 'pagePathLevel3': '', 'pagePathLevel4': ''}, 'transaction': {'currencyCode': 'USD'}, 'item': {'currencyCode': 'USD'}, 'appInfo': {'screenName': 'shop.googlemerchandisestore.com/google+redesign/accessories', 'landingScreenName': 'shop.googlemerchandisestore.com/home', 'exitScreenName': 'shop.googlemerchandisestore.com/home', 'screenDepth': '0'}, 'exceptionInfo': {'isFatal': True}, 'product': [{'productSKU': 'GGOEAKDH019899', 'v2ProductName': 'Windup Android', 'v2ProductCategory': 'Home/Accessories/', 'productVariant': '(not set)', 'productBrand': '(not set)', 'productPrice': '3990000', 'localProductPrice': '3990000', 'isImpression': True, 'customDimensions': [], 'customMetrics': [], 'productListName': 'Category', 'productListPosition': '1', 'productCouponCode': '(not set)'}, {'productSKU': 'GGOEGFSR022099', 'v2ProductName': 'Google Mini Kick Ball', 'v2ProductCategory': 'Home/Accessories/', 'productVariant': '(not set)', 'productBrand': '(not set)', 'productPrice': '1990000', 'localProductPrice': '1990000', 'isImpression': True, 'customDimensions': [], 'customMetrics': [], 'productListName': 'Category', 'productListPosition': '2', 'productCouponCode': '(not set)'}, {'productSKU': 'GGOEGEBK094499', 'v2ProductName': 'Google Bot', 'v2ProductCategory': 'Home/Accessories/', 'productVariant': '(not set)', 'productBrand': '(not set)', 'productPrice': '9990000', 'localProductPrice': '9990000', 'isImpression': True, 'customDimensions': [], 'customMetrics': [], 'productListName': 'Category', 'productListPosition': '3', 'productCouponCode': '(not set)'}, {'productSKU': 'GGOEGPJC019099', 'v2ProductName': '7&quot; Dog Frisbee', 'v2ProductCategory': 'Home/Accessories/', 'productVariant': '(not set)', 'productBrand': '(not set)', 'productPrice': '1500000', 'localProductPrice': '1500000', 'isImpression': True, 'customDimensions': [], 'customMetrics': [], 'productListName': 'Category', 'productListPosition': '4', 'productCouponCode': '(not set)'}, {'productSKU': 'GGOEAFKA087499', 'v2ProductName': 'Android Small Removable Sticker Sheet', 'v2ProductCategory': 'Home/Accessories/', 'productVariant': '(not set)', 'productBrand': '(not set)', 'productPrice': '2990000', 'localProductPrice': '2990000', 'isImpression': True, 'customDimensions': [], 'customMetrics': [], 'productListName': 'Category', 'productListPosition': '5', 'productCouponCode': '(not set)'}, {'productSKU': 'GGOEAFKA087599', 'v2ProductName': 'Android Large Removable Sticker Sheet', 'v2ProductCategory': 'Home/Accessories/', 'productVariant': '(not set)', 'productBrand': '(not set)', 'productPrice': '2990000', 'localProductPrice': '2990000', 'isImpression': True, 'customDimensions': [], 'customMetrics': [], 'productListName': 'Category', 'productListPosition': '6', 'productCouponCode': '(not set)'}, {'productSKU': 'GGOEGABL100799', 'v2ProductName': 'Google Mouse Pad Navy', 'v2ProductCategory': 'Home/Accessories/', 'productVariant': '(not set)', 'productBrand': '(not set)', 'productPrice': '4990000', 'localProductPrice': '4990000', 'isImpression': True, 'customDimensions': [], 'customMetrics': [], 'productListName': 'Category', 'productListPosition': '7', 'productCouponCode': '(not set)'}, {'productSKU': 'GGOEGCBQ098999', 'v2ProductName': 'Google Lip Balm & Sanitizer Duo', 'v2ProductCategory': 'Home/Accessories/', 'productVariant': '(not set)', 'productBrand': '(not set)', 'productPrice': '6990000', 'localProductPrice': '6990000', 'isImpression': True, 'customDimensions': [], 'customMetrics': [], 'productListName': 'Category', 'productListPosition': '8', 'productCouponCode': '(not set)'}, {'productSKU': 'GGOEGEGC099099', 'v2ProductName': 'Google Small Cable Organizer Blue', 'v2ProductCategory': 'Home/Accessories/', 'productVariant': '(not set)', 'productBrand': '(not set)', 'productPrice': '2990000', 'localProductPrice': '2990000', 'isImpression': True, 'customDimensions': [], 'customMetrics': [], 'productListName': 'Category', 'productListPosition': '9', 'productCouponCode': '(not set)'}, {'productSKU': 'GGOEGFKA086699', 'v2ProductName': 'Google Emoji Sticker Pack', 'v2ProductCategory': 'Home/Accessories/', 'productVariant': '(not set)', 'productBrand': '(not set)', 'productPrice': '4990000', 'localProductPrice': '4990000', 'isImpression': True, 'customDimensions': [], 'customMetrics': [], 'productListName': 'Category', 'productListPosition': '10', 'productCouponCode': '(not set)'}, {'productSKU': 'GGOEGFKQ020399', 'v2ProductName': 'Google Laptop and Cell Phone Stickers', 'v2ProductCategory': 'Home/Accessories/', 'productVariant': '(not set)', 'productBrand': '(not set)', 'productPrice': '2990000', 'localProductPrice': '2990000', 'isImpression': True, 'customDimensions': [], 'customMetrics': [], 'productListName': 'Category', 'productListPosition': '11', 'productCouponCode': '(not set)'}, {'productSKU': 'GGOEWCKQ085457', 'v2ProductName': 'Waze Pack of 9 Decal Set', 'v2ProductCategory': 'Home/Accessories/', 'productVariant': '(not set)', 'productBrand': '(not set)', 'productPrice': '16990000', 'localProductPrice': '16990000', 'isImpression': True, 'customDimensions': [], 'customMetrics': [], 'productListName': 'Category', 'productListPosition': '12', 'productCouponCode': '(not set)'}], 'promotion': [], 'eCommerceAction': {'action_type': '0', 'step': '1'}, 'experiment': [], 'customVariables': [], 'customDimensions': [], 'customMetrics': [], 'type': 'PAGE', 'social': {'socialNetwork': '(not set)', 'hasSocialSourceReferral': 'No', 'socialInteractionNetworkAction': ' : '}, 'contentGroup': {'contentGroup1': '(not set)', 'contentGroup2': 'Accessories', 'contentGroup3': '(not set)', 'contentGroup4': '(not set)', 'contentGroup5': '(not set)', 'previousContentGroup1': '(not set)', 'previousContentGroup2': '(not set)', 'previousContentGroup3': '(not set)', 'previousContentGroup4': '(not set)', 'previousContentGroup5': '(not set)', 'contentGroupUniqueViews2': '1'}, 'dataSource': 'web', 'publisher_infos': []}, {'hitNumber': '3', 'time': '19216', 'hour': '21', 'minute': '29', 'isInteraction': True, 'page': {'pagePath': '/home', 'hostname': 'shop.googlemerchandisestore.com', 'pageTitle': 'Home', 'pagePathLevel1': '/home', 'pagePathLevel2': '', 'pagePathLevel3': '', 'pagePathLevel4': ''}, 'appInfo': {'screenName': 'shop.googlemerchandisestore.com/home', 'landingScreenName': 'shop.googlemerchandisestore.com/home', 'exitScreenName': 'shop.googlemerchandisestore.com/home', 'screenDepth': '0'}, 'exceptionInfo': {'isFatal': True}, 'product': [], 'promotion': [{'promoId': 'Apparel Row 1', 'promoName': 'Apparel', 'promoCreative': 'home_main_link_apparel.jpg', 'promoPosition': 'Row 1'}, {'promoId': 'Backpacks Row 2 Combo', 'promoName': 'Backpacks', 'promoCreative': 'home_bags_google_2.jpg', 'promoPosition': 'Row 2 Combo'}, {'promoId': 'Mens T-Shirts Row 3-1', 'promoName': 'Mens T-Shirts', 'promoCreative': 'mens-tshirts.jpg', 'promoPosition': 'Row 3-1'}, {'promoId': 'Womens T-Shirts Row 3-2', 'promoName': 'Womens T-Shirts', 'promoCreative': 'womens-tshirts.jpg', 'promoPosition': 'Row 3-2'}, {'promoId': 'Office Row 5 Color Combo', 'promoName': 'Office', 'promoCreative': 'green_row_link_to_office.jpg', 'promoPosition': 'Row 5 Color Combo'}, {'promoId': 'Drinkware Row 4 Color Combo', 'promoName': 'Drinkware', 'promoCreative': 'red_row_hydrate.jpg', 'promoPosition': 'Row 4 Color Combo'}, {'promoId': 'Google Brand Row 7-1', 'promoName': 'Google Brand', 'promoCreative': 'home_lower_google_500.jpg', 'promoPosition': 'Brand Row 7-1'}, {'promoId': 'YouTube Brand Row 7-2', 'promoName': 'YouTube Brand', 'promoCreative': 'home_lower_youtube_500.jpg', 'promoPosition': 'Brand Row 7-2'}, {'promoId': 'Android Brand Row 7-3', 'promoName': 'Andriod Brand', 'promoCreative': 'home_lower_android_500.jpg', 'promoPosition': 'Brand Row 7-3'}], 'promotionActionInfo': {'promoIsView': True}, 'eCommerceAction': {'action_type': '0', 'step': '1'}, 'experiment': [], 'customVariables': [], 'customDimensions': [], 'customMetrics': [], 'type': 'PAGE', 'social': {'socialNetwork': '(not set)', 'hasSocialSourceReferral': 'No', 'socialInteractionNetworkAction': ' : '}, 'contentGroup': {'contentGroup1': '(not set)', 'contentGroup2': '(not set)', 'contentGroup3': '(not set)', 'contentGroup4': '(not set)', 'contentGroup5': '(not set)', 'previousContentGroup1': '(not set)', 'previousContentGroup2': 'Accessories', 'previousContentGroup3': '(not set)', 'previousContentGroup4': '(not set)', 'previousContentGroup5': '(not set)'}, 'dataSource': 'web', 'publisher_infos': []}, {'hitNumber': '4', 'time': '973047', 'hour': '21', 'minute': '45', 'isInteraction': True, 'isExit': True, 'page': {'pagePath': '/home', 'hostname': 'shop.googlemerchandisestore.com', 'pageTitle': 'Home', 'pagePathLevel1': '/home', 'pagePathLevel2': '', 'pagePathLevel3': '', 'pagePathLevel4': ''}, 'appInfo': {'screenName': 'shop.googlemerchandisestore.com/home', 'landingScreenName': 'shop.googlemerchandisestore.com/home', 'exitScreenName': 'shop.googlemerchandisestore.com/home', 'screenDepth': '0'}, 'exceptionInfo': {'isFatal': True}, 'product': [], 'promotion': [{'promoId': 'Apparel Row 1', 'promoName': 'Apparel', 'promoCreative': 'home_main_link_apparel.jpg', 'promoPosition': 'Row 1'}, {'promoId': 'Backpacks Row 2 Combo', 'promoName': 'Backpacks', 'promoCreative': 'home_bags_google_2.jpg', 'promoPosition': 'Row 2 Combo'}, {'promoId': 'Mens T-Shirts Row 3-1', 'promoName': 'Mens T-Shirts', 'promoCreative': 'mens-tshirts.jpg', 'promoPosition': 'Row 3-1'}, {'promoId': 'Womens T-Shirts Row 3-2', 'promoName': 'Womens T-Shirts', 'promoCreative': 'womens-tshirts.jpg', 'promoPosition': 'Row 3-2'}, {'promoId': 'Office Row 5 Color Combo', 'promoName': 'Office', 'promoCreative': 'green_row_link_to_office.jpg', 'promoPosition': 'Row 5 Color Combo'}, {'promoId': 'Drinkware Row 4 Color Combo', 'promoName': 'Drinkware', 'promoCreative': 'red_row_hydrate.jpg', 'promoPosition': 'Row 4 Color Combo'}, {'promoId': 'Google Brand Row 7-1', 'promoName': 'Google Brand', 'promoCreative': 'home_lower_google_500.jpg', 'promoPosition': 'Brand Row 7-1'}, {'promoId': 'YouTube Brand Row 7-2', 'promoName': 'YouTube Brand', 'promoCreative': 'home_lower_youtube_500.jpg', 'promoPosition': 'Brand Row 7-2'}, {'promoId': 'Android Brand Row 7-3', 'promoName': 'Andriod Brand', 'promoCreative': 'home_lower_android_500.jpg', 'promoPosition': 'Brand Row 7-3'}], 'promotionActionInfo': {'promoIsView': True}, 'eCommerceAction': {'action_type': '0', 'step': '1'}, 'experiment': [], 'customVariables': [], 'customDimensions': [], 'customMetrics': [], 'type': 'PAGE', 'social': {'socialNetwork': '(not set)', 'hasSocialSourceReferral': 'No', 'socialInteractionNetworkAction': ' : '}, 'contentGroup': {'contentGroup1': '(not set)', 'contentGroup2': '(not set)', 'contentGroup3': '(not set)', 'contentGroup4': '(not set)', 'contentGroup5': '(not set)', 'previousContentGroup1': '(not set)', 'previousContentGroup2': 'Accessories', 'previousContentGroup3': '(not set)', 'previousContentGroup4': '(not set)', 'previousContentGroup5': '(not set)'}, 'dataSource': 'web', 'publisher_infos': []}]\""
      ]
     },
     "execution_count": 9,
     "metadata": {},
     "output_type": "execute_result"
    }
   ],
   "source": [
    "test.iloc[0].hits"
   ]
  },
  {
   "cell_type": "code",
   "execution_count": 8,
   "metadata": {},
   "outputs": [
    {
     "data": {
      "text/plain": [
       "'{\"continent\": \"Asia\", \"subContinent\": \"Southern Asia\", \"country\": \"India\", \"region\": \"Delhi\", \"metro\": \"(not set)\", \"city\": \"(not set)\", \"cityId\": \"not available in demo dataset\", \"networkDomain\": \"unknown.unknown\", \"latitude\": \"not available in demo dataset\", \"longitude\": \"not available in demo dataset\", \"networkLocation\": \"not available in demo dataset\"}'"
      ]
     },
     "execution_count": 8,
     "metadata": {},
     "output_type": "execute_result"
    }
   ],
   "source": [
    "test.iloc[0].geoNetwork"
   ]
  },
  {
   "cell_type": "code",
   "execution_count": 7,
   "metadata": {},
   "outputs": [
    {
     "data": {
      "text/plain": [
       "'{\"browser\": \"Chrome\", \"browserVersion\": \"not available in demo dataset\", \"browserSize\": \"not available in demo dataset\", \"operatingSystem\": \"Android\", \"operatingSystemVersion\": \"not available in demo dataset\", \"isMobile\": true, \"mobileDeviceBranding\": \"not available in demo dataset\", \"mobileDeviceModel\": \"not available in demo dataset\", \"mobileInputSelector\": \"not available in demo dataset\", \"mobileDeviceInfo\": \"not available in demo dataset\", \"mobileDeviceMarketingName\": \"not available in demo dataset\", \"flashVersion\": \"not available in demo dataset\", \"language\": \"not available in demo dataset\", \"screenColors\": \"not available in demo dataset\", \"screenResolution\": \"not available in demo dataset\", \"deviceCategory\": \"mobile\"}'"
      ]
     },
     "execution_count": 7,
     "metadata": {},
     "output_type": "execute_result"
    }
   ],
   "source": [
    "test.iloc[0].device"
   ]
  }
 ],
 "metadata": {
  "kernelspec": {
   "display_name": "Python [conda env:py3]",
   "language": "python",
   "name": "conda-env-py3-py"
  },
  "language_info": {
   "codemirror_mode": {
    "name": "ipython",
    "version": 3
   },
   "file_extension": ".py",
   "mimetype": "text/x-python",
   "name": "python",
   "nbconvert_exporter": "python",
   "pygments_lexer": "ipython3",
   "version": "3.6.1"
  },
  "toc": {
   "nav_menu": {
    "height": "13px",
    "width": "251px"
   },
   "navigate_menu": true,
   "number_sections": true,
   "sideBar": true,
   "threshold": 4,
   "toc_cell": false,
   "toc_section_display": "block",
   "toc_window_display": true
  }
 },
 "nbformat": 4,
 "nbformat_minor": 2
}
